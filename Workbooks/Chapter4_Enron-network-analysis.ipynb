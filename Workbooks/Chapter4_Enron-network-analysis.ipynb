{
 "cells": [
  {
   "cell_type": "code",
   "execution_count": 1,
   "metadata": {},
   "outputs": [],
   "source": [
    "import os, sys, email\n",
    "import pandas as pd\n",
    "import numpy as np\n",
    "import re\n",
    "\n",
    "import networkx as nx\n",
    "import pyvis\n",
    "from nltk.tokenize.regexp import RegexpTokenizer\n",
    "from pyvis.network import Network"
   ]
  },
  {
   "cell_type": "code",
   "execution_count": 2,
   "metadata": {},
   "outputs": [
    {
     "data": {
      "text/plain": [
       "517401"
      ]
     },
     "execution_count": 2,
     "metadata": {},
     "output_type": "execute_result"
    }
   ],
   "source": [
    "emails_df = pd.read_csv(\"emails.csv\")\n",
    "len(emails_df)"
   ]
  },
  {
   "cell_type": "code",
   "execution_count": 3,
   "metadata": {},
   "outputs": [
    {
     "name": "stdout",
     "output_type": "stream",
     "text": [
      "<class 'pandas.core.frame.DataFrame'>\n",
      "RangeIndex: 517401 entries, 0 to 517400\n",
      "Data columns (total 2 columns):\n",
      " #   Column   Non-Null Count   Dtype \n",
      "---  ------   --------------   ----- \n",
      " 0   file     517401 non-null  object\n",
      " 1   message  517401 non-null  object\n",
      "dtypes: object(2)\n",
      "memory usage: 7.9+ MB\n"
     ]
    }
   ],
   "source": [
    "emails_df.info()"
   ]
  },
  {
   "cell_type": "code",
   "execution_count": 4,
   "metadata": {},
   "outputs": [
    {
     "data": {
      "text/html": [
       "<div>\n",
       "<style scoped>\n",
       "    .dataframe tbody tr th:only-of-type {\n",
       "        vertical-align: middle;\n",
       "    }\n",
       "\n",
       "    .dataframe tbody tr th {\n",
       "        vertical-align: top;\n",
       "    }\n",
       "\n",
       "    .dataframe thead th {\n",
       "        text-align: right;\n",
       "    }\n",
       "</style>\n",
       "<table border=\"1\" class=\"dataframe\">\n",
       "  <thead>\n",
       "    <tr style=\"text-align: right;\">\n",
       "      <th></th>\n",
       "      <th>file</th>\n",
       "      <th>message</th>\n",
       "    </tr>\n",
       "  </thead>\n",
       "  <tbody>\n",
       "    <tr>\n",
       "      <th>0</th>\n",
       "      <td>allen-p/_sent_mail/1.</td>\n",
       "      <td>Message-ID: &lt;18782981.1075855378110.JavaMail.e...</td>\n",
       "    </tr>\n",
       "    <tr>\n",
       "      <th>1</th>\n",
       "      <td>allen-p/_sent_mail/10.</td>\n",
       "      <td>Message-ID: &lt;15464986.1075855378456.JavaMail.e...</td>\n",
       "    </tr>\n",
       "    <tr>\n",
       "      <th>2</th>\n",
       "      <td>allen-p/_sent_mail/100.</td>\n",
       "      <td>Message-ID: &lt;24216240.1075855687451.JavaMail.e...</td>\n",
       "    </tr>\n",
       "    <tr>\n",
       "      <th>3</th>\n",
       "      <td>allen-p/_sent_mail/1000.</td>\n",
       "      <td>Message-ID: &lt;13505866.1075863688222.JavaMail.e...</td>\n",
       "    </tr>\n",
       "    <tr>\n",
       "      <th>4</th>\n",
       "      <td>allen-p/_sent_mail/1001.</td>\n",
       "      <td>Message-ID: &lt;30922949.1075863688243.JavaMail.e...</td>\n",
       "    </tr>\n",
       "  </tbody>\n",
       "</table>\n",
       "</div>"
      ],
      "text/plain": [
       "                       file                                            message\n",
       "0     allen-p/_sent_mail/1.  Message-ID: <18782981.1075855378110.JavaMail.e...\n",
       "1    allen-p/_sent_mail/10.  Message-ID: <15464986.1075855378456.JavaMail.e...\n",
       "2   allen-p/_sent_mail/100.  Message-ID: <24216240.1075855687451.JavaMail.e...\n",
       "3  allen-p/_sent_mail/1000.  Message-ID: <13505866.1075863688222.JavaMail.e...\n",
       "4  allen-p/_sent_mail/1001.  Message-ID: <30922949.1075863688243.JavaMail.e..."
      ]
     },
     "execution_count": 4,
     "metadata": {},
     "output_type": "execute_result"
    }
   ],
   "source": [
    "emails_df.head()"
   ]
  },
  {
   "cell_type": "code",
   "execution_count": 5,
   "metadata": {},
   "outputs": [],
   "source": [
    "#Getting the contents of email\n",
    "def get_content_of_email(body):\n",
    "    parts = []\n",
    "    for part in body.walk():\n",
    "        if part.get_content_type() == 'text/plain': \n",
    "            parts.append(part.get_payload())\n",
    "    return ''.join(parts)"
   ]
  },
  {
   "cell_type": "code",
   "execution_count": 6,
   "metadata": {},
   "outputs": [],
   "source": [
    "#Getting email address\n",
    "def get_email_address(line): \n",
    "    if line:\n",
    "        address = line.split(',')\n",
    "        address = frozenset(map(lambda x : x.strip(), address))\n",
    "    else:\n",
    "        address = None\n",
    "    return address"
   ]
  },
  {
   "cell_type": "code",
   "execution_count": 7,
   "metadata": {},
   "outputs": [],
   "source": [
    "messages = list(map(email.message_from_string, emails_df['message']))\n",
    "emails_df.drop('message', axis=1, inplace=True) \n",
    "\n",
    "fields = messages[0].keys()\n",
    "for field in fields:\n",
    "    emails_df[field] = [doc[field] for doc in messages]\n",
    "    \n",
    "emails_df['content'] = list(map(get_content_of_email, messages))\n",
    "\n",
    "emails_df['From'] = emails_df['From'].map(get_email_address)\n",
    "emails_df['To'] = emails_df['To'].map(get_email_address)\n",
    "\n",
    "emails_df['user'] = emails_df['file'].map(lambda x:x.split('/')[0])\n",
    "del messages"
   ]
  },
  {
   "cell_type": "code",
   "execution_count": 8,
   "metadata": {},
   "outputs": [],
   "source": [
    "def remove_forwarded_by(text):\n",
    "    condition = \"[- ]*Forwarded by[\\S\\s]*Subject:[\\S\\t ]*\"\n",
    "    return re.sub(condition, \"\", text).strip()"
   ]
  },
  {
   "cell_type": "code",
   "execution_count": 9,
   "metadata": {},
   "outputs": [],
   "source": [
    "# Getting originial emails\n",
    "emails_df[\"content\"] = emails_df.content.map(remove_forwarded_by)\n",
    "emails_df = emails_df[emails_df[\"content\"].str.contains(\"-----Original Message-----\")]"
   ]
  },
  {
   "cell_type": "code",
   "execution_count": 10,
   "metadata": {},
   "outputs": [
    {
     "name": "stdout",
     "output_type": "stream",
     "text": [
      "<class 'pandas.core.frame.DataFrame'>\n",
      "Int64Index: 69514 entries, 942 to 517400\n",
      "Data columns (total 18 columns):\n",
      " #   Column                     Non-Null Count  Dtype \n",
      "---  ------                     --------------  ----- \n",
      " 0   file                       69514 non-null  object\n",
      " 1   Message-ID                 69514 non-null  object\n",
      " 2   Date                       69514 non-null  object\n",
      " 3   From                       69514 non-null  object\n",
      " 4   To                         69062 non-null  object\n",
      " 5   Subject                    69514 non-null  object\n",
      " 6   Mime-Version               69514 non-null  object\n",
      " 7   Content-Type               69514 non-null  object\n",
      " 8   Content-Transfer-Encoding  69514 non-null  object\n",
      " 9   X-From                     69514 non-null  object\n",
      " 10  X-To                       69514 non-null  object\n",
      " 11  X-cc                       69514 non-null  object\n",
      " 12  X-bcc                      69514 non-null  object\n",
      " 13  X-Folder                   69514 non-null  object\n",
      " 14  X-Origin                   69514 non-null  object\n",
      " 15  X-FileName                 69514 non-null  object\n",
      " 16  content                    69514 non-null  object\n",
      " 17  user                       69514 non-null  object\n",
      "dtypes: object(18)\n",
      "memory usage: 10.1+ MB\n"
     ]
    }
   ],
   "source": [
    "emails_df.info()"
   ]
  },
  {
   "cell_type": "code",
   "execution_count": 11,
   "metadata": {},
   "outputs": [],
   "source": [
    "emails_df = emails_df.set_index('Message-ID').drop(['file','Mime-Version','Content-Type', \n",
    "                                                    'Content-Transfer-Encoding','Subject', 'X-FileName', 'X-Folder',\n",
    "                                                    'X-Origin', 'X-FileName', 'X-cc', 'X-bcc' ], axis=1)\n",
    "emails_df['Date'] = pd.to_datetime(emails_df['Date'], utc = True)\n",
    "emails_df['Date'] = emails_df['Date'].dt.date"
   ]
  },
  {
   "cell_type": "code",
   "execution_count": 12,
   "metadata": {},
   "outputs": [
    {
     "name": "stdout",
     "output_type": "stream",
     "text": [
      "<class 'pandas.core.frame.DataFrame'>\n",
      "Index: 69514 entries, <2194589.1075855666394.JavaMail.evans@thyme> to <28618979.1075842030037.JavaMail.evans@thyme>\n",
      "Data columns (total 7 columns):\n",
      " #   Column   Non-Null Count  Dtype \n",
      "---  ------   --------------  ----- \n",
      " 0   Date     69514 non-null  object\n",
      " 1   From     69514 non-null  object\n",
      " 2   To       69062 non-null  object\n",
      " 3   X-From   69514 non-null  object\n",
      " 4   X-To     69514 non-null  object\n",
      " 5   content  69514 non-null  object\n",
      " 6   user     69514 non-null  object\n",
      "dtypes: object(7)\n",
      "memory usage: 4.2+ MB\n"
     ]
    }
   ],
   "source": [
    "emails_df.info()"
   ]
  },
  {
   "cell_type": "code",
   "execution_count": 13,
   "metadata": {},
   "outputs": [
    {
     "data": {
      "text/plain": [
       "149"
      ]
     },
     "execution_count": 13,
     "metadata": {},
     "output_type": "execute_result"
    }
   ],
   "source": [
    "emails_df.user.nunique()"
   ]
  },
  {
   "cell_type": "code",
   "execution_count": 14,
   "metadata": {},
   "outputs": [
    {
     "data": {
      "text/plain": [
       "5221"
      ]
     },
     "execution_count": 14,
     "metadata": {},
     "output_type": "execute_result"
    }
   ],
   "source": [
    "emails_df['From'].nunique()"
   ]
  },
  {
   "cell_type": "code",
   "execution_count": 15,
   "metadata": {},
   "outputs": [
    {
     "data": {
      "text/plain": [
       "15443"
      ]
     },
     "execution_count": 15,
     "metadata": {},
     "output_type": "execute_result"
    }
   ],
   "source": [
    "emails_df['To'].nunique()"
   ]
  },
  {
   "cell_type": "code",
   "execution_count": 16,
   "metadata": {},
   "outputs": [
    {
     "data": {
      "text/html": [
       "<div>\n",
       "<style scoped>\n",
       "    .dataframe tbody tr th:only-of-type {\n",
       "        vertical-align: middle;\n",
       "    }\n",
       "\n",
       "    .dataframe tbody tr th {\n",
       "        vertical-align: top;\n",
       "    }\n",
       "\n",
       "    .dataframe thead th {\n",
       "        text-align: right;\n",
       "    }\n",
       "</style>\n",
       "<table border=\"1\" class=\"dataframe\">\n",
       "  <thead>\n",
       "    <tr style=\"text-align: right;\">\n",
       "      <th></th>\n",
       "      <th>Date</th>\n",
       "      <th>From</th>\n",
       "      <th>To</th>\n",
       "      <th>X-From</th>\n",
       "      <th>X-To</th>\n",
       "      <th>content</th>\n",
       "      <th>user</th>\n",
       "    </tr>\n",
       "    <tr>\n",
       "      <th>Message-ID</th>\n",
       "      <th></th>\n",
       "      <th></th>\n",
       "      <th></th>\n",
       "      <th></th>\n",
       "      <th></th>\n",
       "      <th></th>\n",
       "      <th></th>\n",
       "    </tr>\n",
       "  </thead>\n",
       "  <tbody>\n",
       "    <tr>\n",
       "      <th>&lt;2194589.1075855666394.JavaMail.evans@thyme&gt;</th>\n",
       "      <td>2000-12-11</td>\n",
       "      <td>(jsmith@austintx.com)</td>\n",
       "      <td>(phillip.k.allen@enron.com)</td>\n",
       "      <td>\"Jeff Smith\" &lt;jsmith@austintx.com&gt;</td>\n",
       "      <td>&lt;Phillip.K.Allen@enron.com&gt;</td>\n",
       "      <td>I WILL TALK TO LUTZ ABOUT HIS SHARE OF THE LEG...</td>\n",
       "      <td>allen-p</td>\n",
       "    </tr>\n",
       "    <tr>\n",
       "      <th>&lt;8914065.1075858632242.JavaMail.evans@thyme&gt;</th>\n",
       "      <td>2001-10-18</td>\n",
       "      <td>(no.address@enron.com)</td>\n",
       "      <td>None</td>\n",
       "      <td>Enron Global Technology@ENRON</td>\n",
       "      <td>All Enron Worldwide@ENRON &lt;??SAll Enron Worldw...</td>\n",
       "      <td>Earlier this week, Enron Global Technology ann...</td>\n",
       "      <td>allen-p</td>\n",
       "    </tr>\n",
       "    <tr>\n",
       "      <th>&lt;6254563.1075858632387.JavaMail.evans@thyme&gt;</th>\n",
       "      <td>2001-10-19</td>\n",
       "      <td>(bodyshop@enron.com)</td>\n",
       "      <td>(bodyshop@enron.com)</td>\n",
       "      <td>Bodyshop &lt;/O=ENRON/OU=NA/CN=RECIPIENTS/CN=BODY...</td>\n",
       "      <td>Bodyshop &lt;/O=ENRON/OU=NA/CN=RECIPIENTS/CN=Body...</td>\n",
       "      <td>-----Original Message-----\\nFrom: \\tWright, Le...</td>\n",
       "      <td>allen-p</td>\n",
       "    </tr>\n",
       "    <tr>\n",
       "      <th>&lt;3461377.1075858633882.JavaMail.evans@thyme&gt;</th>\n",
       "      <td>2001-10-22</td>\n",
       "      <td>(w..cantrell@enron.com)</td>\n",
       "      <td>(matt.smith@enron.com, patti.sullivan@enron.co...</td>\n",
       "      <td>Cantrell, Rebecca W. &lt;/O=ENRON/OU=NA/CN=RECIPI...</td>\n",
       "      <td>Lawner, Leslie &lt;/O=ENRON/OU=NA/CN=RECIPIENTS/C...</td>\n",
       "      <td>Updated to include comments received as of Fri...</td>\n",
       "      <td>allen-p</td>\n",
       "    </tr>\n",
       "    <tr>\n",
       "      <th>&lt;8996818.1075858633953.JavaMail.evans@thyme&gt;</th>\n",
       "      <td>2001-10-22</td>\n",
       "      <td>(mike.grigsby@enron.com)</td>\n",
       "      <td>(matt.smith@enron.com, k..allen@enron.com, l.....</td>\n",
       "      <td>Grigsby, Mike &lt;/O=ENRON/OU=NA/CN=RECIPIENTS/CN...</td>\n",
       "      <td>Allen, Phillip K. &lt;/O=ENRON/OU=NA/CN=RECIPIENT...</td>\n",
       "      <td>-----Original Message-----\\nFrom: \\tSheppard, ...</td>\n",
       "      <td>allen-p</td>\n",
       "    </tr>\n",
       "  </tbody>\n",
       "</table>\n",
       "</div>"
      ],
      "text/plain": [
       "                                                    Date  \\\n",
       "Message-ID                                                 \n",
       "<2194589.1075855666394.JavaMail.evans@thyme>  2000-12-11   \n",
       "<8914065.1075858632242.JavaMail.evans@thyme>  2001-10-18   \n",
       "<6254563.1075858632387.JavaMail.evans@thyme>  2001-10-19   \n",
       "<3461377.1075858633882.JavaMail.evans@thyme>  2001-10-22   \n",
       "<8996818.1075858633953.JavaMail.evans@thyme>  2001-10-22   \n",
       "\n",
       "                                                                  From  \\\n",
       "Message-ID                                                               \n",
       "<2194589.1075855666394.JavaMail.evans@thyme>     (jsmith@austintx.com)   \n",
       "<8914065.1075858632242.JavaMail.evans@thyme>    (no.address@enron.com)   \n",
       "<6254563.1075858632387.JavaMail.evans@thyme>      (bodyshop@enron.com)   \n",
       "<3461377.1075858633882.JavaMail.evans@thyme>   (w..cantrell@enron.com)   \n",
       "<8996818.1075858633953.JavaMail.evans@thyme>  (mike.grigsby@enron.com)   \n",
       "\n",
       "                                                                                             To  \\\n",
       "Message-ID                                                                                        \n",
       "<2194589.1075855666394.JavaMail.evans@thyme>                        (phillip.k.allen@enron.com)   \n",
       "<8914065.1075858632242.JavaMail.evans@thyme>                                               None   \n",
       "<6254563.1075858632387.JavaMail.evans@thyme>                               (bodyshop@enron.com)   \n",
       "<3461377.1075858633882.JavaMail.evans@thyme>  (matt.smith@enron.com, patti.sullivan@enron.co...   \n",
       "<8996818.1075858633953.JavaMail.evans@thyme>  (matt.smith@enron.com, k..allen@enron.com, l.....   \n",
       "\n",
       "                                                                                         X-From  \\\n",
       "Message-ID                                                                                        \n",
       "<2194589.1075855666394.JavaMail.evans@thyme>                 \"Jeff Smith\" <jsmith@austintx.com>   \n",
       "<8914065.1075858632242.JavaMail.evans@thyme>                      Enron Global Technology@ENRON   \n",
       "<6254563.1075858632387.JavaMail.evans@thyme>  Bodyshop </O=ENRON/OU=NA/CN=RECIPIENTS/CN=BODY...   \n",
       "<3461377.1075858633882.JavaMail.evans@thyme>  Cantrell, Rebecca W. </O=ENRON/OU=NA/CN=RECIPI...   \n",
       "<8996818.1075858633953.JavaMail.evans@thyme>  Grigsby, Mike </O=ENRON/OU=NA/CN=RECIPIENTS/CN...   \n",
       "\n",
       "                                                                                           X-To  \\\n",
       "Message-ID                                                                                        \n",
       "<2194589.1075855666394.JavaMail.evans@thyme>                        <Phillip.K.Allen@enron.com>   \n",
       "<8914065.1075858632242.JavaMail.evans@thyme>  All Enron Worldwide@ENRON <??SAll Enron Worldw...   \n",
       "<6254563.1075858632387.JavaMail.evans@thyme>  Bodyshop </O=ENRON/OU=NA/CN=RECIPIENTS/CN=Body...   \n",
       "<3461377.1075858633882.JavaMail.evans@thyme>  Lawner, Leslie </O=ENRON/OU=NA/CN=RECIPIENTS/C...   \n",
       "<8996818.1075858633953.JavaMail.evans@thyme>  Allen, Phillip K. </O=ENRON/OU=NA/CN=RECIPIENT...   \n",
       "\n",
       "                                                                                        content  \\\n",
       "Message-ID                                                                                        \n",
       "<2194589.1075855666394.JavaMail.evans@thyme>  I WILL TALK TO LUTZ ABOUT HIS SHARE OF THE LEG...   \n",
       "<8914065.1075858632242.JavaMail.evans@thyme>  Earlier this week, Enron Global Technology ann...   \n",
       "<6254563.1075858632387.JavaMail.evans@thyme>  -----Original Message-----\\nFrom: \\tWright, Le...   \n",
       "<3461377.1075858633882.JavaMail.evans@thyme>  Updated to include comments received as of Fri...   \n",
       "<8996818.1075858633953.JavaMail.evans@thyme>  -----Original Message-----\\nFrom: \\tSheppard, ...   \n",
       "\n",
       "                                                 user  \n",
       "Message-ID                                             \n",
       "<2194589.1075855666394.JavaMail.evans@thyme>  allen-p  \n",
       "<8914065.1075858632242.JavaMail.evans@thyme>  allen-p  \n",
       "<6254563.1075858632387.JavaMail.evans@thyme>  allen-p  \n",
       "<3461377.1075858633882.JavaMail.evans@thyme>  allen-p  \n",
       "<8996818.1075858633953.JavaMail.evans@thyme>  allen-p  "
      ]
     },
     "execution_count": 16,
     "metadata": {},
     "output_type": "execute_result"
    }
   ],
   "source": [
    "emails_df.head()"
   ]
  },
  {
   "cell_type": "code",
   "execution_count": 17,
   "metadata": {},
   "outputs": [],
   "source": [
    "emails_df = emails_df.reset_index(drop = True)"
   ]
  },
  {
   "cell_type": "code",
   "execution_count": 18,
   "metadata": {},
   "outputs": [],
   "source": [
    "emails_df['Date'] = pd.to_datetime(emails_df['Date'], utc = True)"
   ]
  },
  {
   "cell_type": "code",
   "execution_count": 19,
   "metadata": {},
   "outputs": [],
   "source": [
    "emails_df['year'] = emails_df['Date'].dt.year"
   ]
  },
  {
   "cell_type": "code",
   "execution_count": 20,
   "metadata": {},
   "outputs": [],
   "source": [
    "emails_df['month'] = emails_df['Date'].dt.month"
   ]
  },
  {
   "cell_type": "code",
   "execution_count": 21,
   "metadata": {},
   "outputs": [
    {
     "data": {
      "text/html": [
       "<div>\n",
       "<style scoped>\n",
       "    .dataframe tbody tr th:only-of-type {\n",
       "        vertical-align: middle;\n",
       "    }\n",
       "\n",
       "    .dataframe tbody tr th {\n",
       "        vertical-align: top;\n",
       "    }\n",
       "\n",
       "    .dataframe thead th {\n",
       "        text-align: right;\n",
       "    }\n",
       "</style>\n",
       "<table border=\"1\" class=\"dataframe\">\n",
       "  <thead>\n",
       "    <tr style=\"text-align: right;\">\n",
       "      <th></th>\n",
       "      <th>Date</th>\n",
       "      <th>From</th>\n",
       "      <th>To</th>\n",
       "      <th>X-From</th>\n",
       "      <th>X-To</th>\n",
       "      <th>content</th>\n",
       "      <th>user</th>\n",
       "      <th>year</th>\n",
       "      <th>month</th>\n",
       "    </tr>\n",
       "  </thead>\n",
       "  <tbody>\n",
       "    <tr>\n",
       "      <th>0</th>\n",
       "      <td>2000-12-11 00:00:00+00:00</td>\n",
       "      <td>(jsmith@austintx.com)</td>\n",
       "      <td>(phillip.k.allen@enron.com)</td>\n",
       "      <td>\"Jeff Smith\" &lt;jsmith@austintx.com&gt;</td>\n",
       "      <td>&lt;Phillip.K.Allen@enron.com&gt;</td>\n",
       "      <td>I WILL TALK TO LUTZ ABOUT HIS SHARE OF THE LEG...</td>\n",
       "      <td>allen-p</td>\n",
       "      <td>2000</td>\n",
       "      <td>12</td>\n",
       "    </tr>\n",
       "    <tr>\n",
       "      <th>1</th>\n",
       "      <td>2001-10-18 00:00:00+00:00</td>\n",
       "      <td>(no.address@enron.com)</td>\n",
       "      <td>None</td>\n",
       "      <td>Enron Global Technology@ENRON</td>\n",
       "      <td>All Enron Worldwide@ENRON &lt;??SAll Enron Worldw...</td>\n",
       "      <td>Earlier this week, Enron Global Technology ann...</td>\n",
       "      <td>allen-p</td>\n",
       "      <td>2001</td>\n",
       "      <td>10</td>\n",
       "    </tr>\n",
       "    <tr>\n",
       "      <th>2</th>\n",
       "      <td>2001-10-19 00:00:00+00:00</td>\n",
       "      <td>(bodyshop@enron.com)</td>\n",
       "      <td>(bodyshop@enron.com)</td>\n",
       "      <td>Bodyshop &lt;/O=ENRON/OU=NA/CN=RECIPIENTS/CN=BODY...</td>\n",
       "      <td>Bodyshop &lt;/O=ENRON/OU=NA/CN=RECIPIENTS/CN=Body...</td>\n",
       "      <td>-----Original Message-----\\nFrom: \\tWright, Le...</td>\n",
       "      <td>allen-p</td>\n",
       "      <td>2001</td>\n",
       "      <td>10</td>\n",
       "    </tr>\n",
       "    <tr>\n",
       "      <th>3</th>\n",
       "      <td>2001-10-22 00:00:00+00:00</td>\n",
       "      <td>(w..cantrell@enron.com)</td>\n",
       "      <td>(matt.smith@enron.com, patti.sullivan@enron.co...</td>\n",
       "      <td>Cantrell, Rebecca W. &lt;/O=ENRON/OU=NA/CN=RECIPI...</td>\n",
       "      <td>Lawner, Leslie &lt;/O=ENRON/OU=NA/CN=RECIPIENTS/C...</td>\n",
       "      <td>Updated to include comments received as of Fri...</td>\n",
       "      <td>allen-p</td>\n",
       "      <td>2001</td>\n",
       "      <td>10</td>\n",
       "    </tr>\n",
       "    <tr>\n",
       "      <th>4</th>\n",
       "      <td>2001-10-22 00:00:00+00:00</td>\n",
       "      <td>(mike.grigsby@enron.com)</td>\n",
       "      <td>(matt.smith@enron.com, k..allen@enron.com, l.....</td>\n",
       "      <td>Grigsby, Mike &lt;/O=ENRON/OU=NA/CN=RECIPIENTS/CN...</td>\n",
       "      <td>Allen, Phillip K. &lt;/O=ENRON/OU=NA/CN=RECIPIENT...</td>\n",
       "      <td>-----Original Message-----\\nFrom: \\tSheppard, ...</td>\n",
       "      <td>allen-p</td>\n",
       "      <td>2001</td>\n",
       "      <td>10</td>\n",
       "    </tr>\n",
       "  </tbody>\n",
       "</table>\n",
       "</div>"
      ],
      "text/plain": [
       "                       Date                      From  \\\n",
       "0 2000-12-11 00:00:00+00:00     (jsmith@austintx.com)   \n",
       "1 2001-10-18 00:00:00+00:00    (no.address@enron.com)   \n",
       "2 2001-10-19 00:00:00+00:00      (bodyshop@enron.com)   \n",
       "3 2001-10-22 00:00:00+00:00   (w..cantrell@enron.com)   \n",
       "4 2001-10-22 00:00:00+00:00  (mike.grigsby@enron.com)   \n",
       "\n",
       "                                                  To  \\\n",
       "0                        (phillip.k.allen@enron.com)   \n",
       "1                                               None   \n",
       "2                               (bodyshop@enron.com)   \n",
       "3  (matt.smith@enron.com, patti.sullivan@enron.co...   \n",
       "4  (matt.smith@enron.com, k..allen@enron.com, l.....   \n",
       "\n",
       "                                              X-From  \\\n",
       "0                 \"Jeff Smith\" <jsmith@austintx.com>   \n",
       "1                      Enron Global Technology@ENRON   \n",
       "2  Bodyshop </O=ENRON/OU=NA/CN=RECIPIENTS/CN=BODY...   \n",
       "3  Cantrell, Rebecca W. </O=ENRON/OU=NA/CN=RECIPI...   \n",
       "4  Grigsby, Mike </O=ENRON/OU=NA/CN=RECIPIENTS/CN...   \n",
       "\n",
       "                                                X-To  \\\n",
       "0                        <Phillip.K.Allen@enron.com>   \n",
       "1  All Enron Worldwide@ENRON <??SAll Enron Worldw...   \n",
       "2  Bodyshop </O=ENRON/OU=NA/CN=RECIPIENTS/CN=Body...   \n",
       "3  Lawner, Leslie </O=ENRON/OU=NA/CN=RECIPIENTS/C...   \n",
       "4  Allen, Phillip K. </O=ENRON/OU=NA/CN=RECIPIENT...   \n",
       "\n",
       "                                             content     user  year  month  \n",
       "0  I WILL TALK TO LUTZ ABOUT HIS SHARE OF THE LEG...  allen-p  2000     12  \n",
       "1  Earlier this week, Enron Global Technology ann...  allen-p  2001     10  \n",
       "2  -----Original Message-----\\nFrom: \\tWright, Le...  allen-p  2001     10  \n",
       "3  Updated to include comments received as of Fri...  allen-p  2001     10  \n",
       "4  -----Original Message-----\\nFrom: \\tSheppard, ...  allen-p  2001     10  "
      ]
     },
     "execution_count": 21,
     "metadata": {},
     "output_type": "execute_result"
    }
   ],
   "source": [
    "emails_df.head()"
   ]
  },
  {
   "cell_type": "markdown",
   "metadata": {},
   "source": [
    "## who send most emails to whom"
   ]
  },
  {
   "cell_type": "code",
   "execution_count": 22,
   "metadata": {},
   "outputs": [],
   "source": [
    "user = ['derrick-j', 'forney-j', 'lay-k', 'delainey-d', 'skilling-j']"
   ]
  },
  {
   "cell_type": "code",
   "execution_count": 23,
   "metadata": {},
   "outputs": [],
   "source": [
    "emails_df = emails_df[emails_df['user'].isin(user)]"
   ]
  },
  {
   "cell_type": "code",
   "execution_count": 24,
   "metadata": {},
   "outputs": [
    {
     "data": {
      "text/html": [
       "<div>\n",
       "<style scoped>\n",
       "    .dataframe tbody tr th:only-of-type {\n",
       "        vertical-align: middle;\n",
       "    }\n",
       "\n",
       "    .dataframe tbody tr th {\n",
       "        vertical-align: top;\n",
       "    }\n",
       "\n",
       "    .dataframe thead th {\n",
       "        text-align: right;\n",
       "    }\n",
       "</style>\n",
       "<table border=\"1\" class=\"dataframe\">\n",
       "  <thead>\n",
       "    <tr style=\"text-align: right;\">\n",
       "      <th></th>\n",
       "      <th>Date</th>\n",
       "      <th>From</th>\n",
       "      <th>To</th>\n",
       "      <th>X-From</th>\n",
       "      <th>X-To</th>\n",
       "      <th>content</th>\n",
       "      <th>user</th>\n",
       "      <th>year</th>\n",
       "      <th>month</th>\n",
       "    </tr>\n",
       "  </thead>\n",
       "  <tbody>\n",
       "    <tr>\n",
       "      <th>12740</th>\n",
       "      <td>2001-12-28 00:00:00+00:00</td>\n",
       "      <td>(shona.wilson@enron.com)</td>\n",
       "      <td>(dimitri.taylor@enron.com, wanda.curry@enron.c...</td>\n",
       "      <td>Wilson, Shona &lt;/O=ENRON/OU=NA/CN=RECIPIENTS/CN...</td>\n",
       "      <td>Abel, Chris &lt;/O=ENRON/OU=NA/CN=RECIPIENTS/CN=C...</td>\n",
       "      <td>The preliminary should be out by the end of th...</td>\n",
       "      <td>delainey-d</td>\n",
       "      <td>2001</td>\n",
       "      <td>12</td>\n",
       "    </tr>\n",
       "    <tr>\n",
       "      <th>12741</th>\n",
       "      <td>2001-12-28 00:00:00+00:00</td>\n",
       "      <td>(tharsilla.broussard@enron.com)</td>\n",
       "      <td>(w..delainey@enron.com)</td>\n",
       "      <td>Broussard, Tharsilla &lt;/O=ENRON/OU=NA/CN=RECIPI...</td>\n",
       "      <td>Delainey, David W. &lt;/O=ENRON/OU=NA/CN=RECIPIEN...</td>\n",
       "      <td>You're very welcome!  You have a good new year...</td>\n",
       "      <td>delainey-d</td>\n",
       "      <td>2001</td>\n",
       "      <td>12</td>\n",
       "    </tr>\n",
       "    <tr>\n",
       "      <th>12742</th>\n",
       "      <td>2001-12-27 00:00:00+00:00</td>\n",
       "      <td>(s..muller@enron.com)</td>\n",
       "      <td>(w..delainey@enron.com)</td>\n",
       "      <td>Muller, Mark S. &lt;/O=ENRON/OU=NA/CN=RECIPIENTS/...</td>\n",
       "      <td>Delainey, David W. &lt;/O=ENRON/OU=NA/CN=RECIPIEN...</td>\n",
       "      <td>aren't you supposed to be skiing\\n\\n-----Origi...</td>\n",
       "      <td>delainey-d</td>\n",
       "      <td>2001</td>\n",
       "      <td>12</td>\n",
       "    </tr>\n",
       "    <tr>\n",
       "      <th>12743</th>\n",
       "      <td>2001-12-23 00:00:00+00:00</td>\n",
       "      <td>(no.address@enron.com)</td>\n",
       "      <td>(w..delainey@enron.com, jeffrey.mcmahon@enron....</td>\n",
       "      <td>Miller, Don (Asset Mktg) &lt;/O=ENRON/OU=NA/CN=RE...</td>\n",
       "      <td>Dietrich, Janet &lt;/O=ENRON/OU=NA/CN=RECIPIENTS/...</td>\n",
       "      <td>I will track down more details this week.  \\n ...</td>\n",
       "      <td>delainey-d</td>\n",
       "      <td>2001</td>\n",
       "      <td>12</td>\n",
       "    </tr>\n",
       "    <tr>\n",
       "      <th>12744</th>\n",
       "      <td>2002-01-10 00:00:00+00:00</td>\n",
       "      <td>(david.oxley@enron.com)</td>\n",
       "      <td>(terrie.wheeler@enron.com, kriste.sullivan@enr...</td>\n",
       "      <td>Oxley, David &lt;/O=ENRON/OU=NA/CN=RECIPIENTS/CN=...</td>\n",
       "      <td>Dietrich, Janet &lt;/O=ENRON/OU=NA/CN=RECIPIENTS/...</td>\n",
       "      <td>OK. We actually had here on NETCo list. I'll r...</td>\n",
       "      <td>delainey-d</td>\n",
       "      <td>2002</td>\n",
       "      <td>1</td>\n",
       "    </tr>\n",
       "  </tbody>\n",
       "</table>\n",
       "</div>"
      ],
      "text/plain": [
       "                           Date                             From  \\\n",
       "12740 2001-12-28 00:00:00+00:00         (shona.wilson@enron.com)   \n",
       "12741 2001-12-28 00:00:00+00:00  (tharsilla.broussard@enron.com)   \n",
       "12742 2001-12-27 00:00:00+00:00            (s..muller@enron.com)   \n",
       "12743 2001-12-23 00:00:00+00:00           (no.address@enron.com)   \n",
       "12744 2002-01-10 00:00:00+00:00          (david.oxley@enron.com)   \n",
       "\n",
       "                                                      To  \\\n",
       "12740  (dimitri.taylor@enron.com, wanda.curry@enron.c...   \n",
       "12741                            (w..delainey@enron.com)   \n",
       "12742                            (w..delainey@enron.com)   \n",
       "12743  (w..delainey@enron.com, jeffrey.mcmahon@enron....   \n",
       "12744  (terrie.wheeler@enron.com, kriste.sullivan@enr...   \n",
       "\n",
       "                                                  X-From  \\\n",
       "12740  Wilson, Shona </O=ENRON/OU=NA/CN=RECIPIENTS/CN...   \n",
       "12741  Broussard, Tharsilla </O=ENRON/OU=NA/CN=RECIPI...   \n",
       "12742  Muller, Mark S. </O=ENRON/OU=NA/CN=RECIPIENTS/...   \n",
       "12743  Miller, Don (Asset Mktg) </O=ENRON/OU=NA/CN=RE...   \n",
       "12744  Oxley, David </O=ENRON/OU=NA/CN=RECIPIENTS/CN=...   \n",
       "\n",
       "                                                    X-To  \\\n",
       "12740  Abel, Chris </O=ENRON/OU=NA/CN=RECIPIENTS/CN=C...   \n",
       "12741  Delainey, David W. </O=ENRON/OU=NA/CN=RECIPIEN...   \n",
       "12742  Delainey, David W. </O=ENRON/OU=NA/CN=RECIPIEN...   \n",
       "12743  Dietrich, Janet </O=ENRON/OU=NA/CN=RECIPIENTS/...   \n",
       "12744  Dietrich, Janet </O=ENRON/OU=NA/CN=RECIPIENTS/...   \n",
       "\n",
       "                                                 content        user  year  \\\n",
       "12740  The preliminary should be out by the end of th...  delainey-d  2001   \n",
       "12741  You're very welcome!  You have a good new year...  delainey-d  2001   \n",
       "12742  aren't you supposed to be skiing\\n\\n-----Origi...  delainey-d  2001   \n",
       "12743  I will track down more details this week.  \\n ...  delainey-d  2001   \n",
       "12744  OK. We actually had here on NETCo list. I'll r...  delainey-d  2002   \n",
       "\n",
       "       month  \n",
       "12740     12  \n",
       "12741     12  \n",
       "12742     12  \n",
       "12743     12  \n",
       "12744      1  "
      ]
     },
     "execution_count": 24,
     "metadata": {},
     "output_type": "execute_result"
    }
   ],
   "source": [
    "emails_df.head()"
   ]
  },
  {
   "cell_type": "code",
   "execution_count": 25,
   "metadata": {},
   "outputs": [
    {
     "name": "stdout",
     "output_type": "stream",
     "text": [
      "<class 'pandas.core.frame.DataFrame'>\n",
      "Int64Index: 1717 entries, 12740 to 57258\n",
      "Data columns (total 9 columns):\n",
      " #   Column   Non-Null Count  Dtype              \n",
      "---  ------   --------------  -----              \n",
      " 0   Date     1717 non-null   datetime64[ns, UTC]\n",
      " 1   From     1717 non-null   object             \n",
      " 2   To       1670 non-null   object             \n",
      " 3   X-From   1717 non-null   object             \n",
      " 4   X-To     1717 non-null   object             \n",
      " 5   content  1717 non-null   object             \n",
      " 6   user     1717 non-null   object             \n",
      " 7   year     1717 non-null   int64              \n",
      " 8   month    1717 non-null   int64              \n",
      "dtypes: datetime64[ns, UTC](1), int64(2), object(6)\n",
      "memory usage: 134.1+ KB\n"
     ]
    }
   ],
   "source": [
    "emails_df.info()"
   ]
  },
  {
   "cell_type": "code",
   "execution_count": 26,
   "metadata": {},
   "outputs": [
    {
     "data": {
      "text/plain": [
       "335"
      ]
     },
     "execution_count": 26,
     "metadata": {},
     "output_type": "execute_result"
    }
   ],
   "source": [
    "emails_df['From'].nunique()"
   ]
  },
  {
   "cell_type": "code",
   "execution_count": 27,
   "metadata": {},
   "outputs": [
    {
     "data": {
      "text/plain": [
       "533"
      ]
     },
     "execution_count": 27,
     "metadata": {},
     "output_type": "execute_result"
    }
   ],
   "source": [
    "emails_df['To'].nunique()"
   ]
  },
  {
   "cell_type": "code",
   "execution_count": 28,
   "metadata": {},
   "outputs": [],
   "source": [
    "year = [2001]"
   ]
  },
  {
   "cell_type": "code",
   "execution_count": 29,
   "metadata": {},
   "outputs": [],
   "source": [
    "emails_2001 = emails_df[emails_df['year'].isin(year)]"
   ]
  },
  {
   "cell_type": "markdown",
   "metadata": {},
   "source": [
    "# Enron data [Jan-june'2001]"
   ]
  },
  {
   "cell_type": "code",
   "execution_count": 30,
   "metadata": {},
   "outputs": [],
   "source": [
    "month = [1, 2, 3, 4, 5, 6]"
   ]
  },
  {
   "cell_type": "code",
   "execution_count": 31,
   "metadata": {},
   "outputs": [],
   "source": [
    "emails_rise = emails_2001[emails_2001['month'].isin(month)]"
   ]
  },
  {
   "cell_type": "code",
   "execution_count": 32,
   "metadata": {},
   "outputs": [
    {
     "name": "stdout",
     "output_type": "stream",
     "text": [
      "(506, 3)\n",
      "(437, 3)\n"
     ]
    }
   ],
   "source": [
    "sub_df_rise = emails_rise[['From', 'To', 'Date']].dropna()\n",
    "print(sub_df_rise.shape)\n",
    "\n",
    "sub_df_rise = sub_df_rise.loc[sub_df_rise['To'].map(len) == 1]\n",
    "print(sub_df_rise.shape)"
   ]
  },
  {
   "cell_type": "code",
   "execution_count": 33,
   "metadata": {},
   "outputs": [
    {
     "data": {
      "text/html": [
       "<div>\n",
       "<style scoped>\n",
       "    .dataframe tbody tr th:only-of-type {\n",
       "        vertical-align: middle;\n",
       "    }\n",
       "\n",
       "    .dataframe tbody tr th {\n",
       "        vertical-align: top;\n",
       "    }\n",
       "\n",
       "    .dataframe thead th {\n",
       "        text-align: right;\n",
       "    }\n",
       "</style>\n",
       "<table border=\"1\" class=\"dataframe\">\n",
       "  <thead>\n",
       "    <tr style=\"text-align: right;\">\n",
       "      <th></th>\n",
       "      <th>From</th>\n",
       "      <th>To</th>\n",
       "      <th>count</th>\n",
       "    </tr>\n",
       "  </thead>\n",
       "  <tbody>\n",
       "    <tr>\n",
       "      <th>127</th>\n",
       "      <td>james.derrick@enron.com</td>\n",
       "      <td>j.harris@enron.com</td>\n",
       "      <td>93</td>\n",
       "    </tr>\n",
       "    <tr>\n",
       "      <th>35</th>\n",
       "      <td>rob.walls@enron.com</td>\n",
       "      <td>james.derrick@enron.com</td>\n",
       "      <td>22</td>\n",
       "    </tr>\n",
       "    <tr>\n",
       "      <th>130</th>\n",
       "      <td>james.derrick@enron.com</td>\n",
       "      <td>rob.walls@enron.com</td>\n",
       "      <td>13</td>\n",
       "    </tr>\n",
       "    <tr>\n",
       "      <th>44</th>\n",
       "      <td>sherri.sera@enron.com</td>\n",
       "      <td>eharris@insightpartners.com</td>\n",
       "      <td>12</td>\n",
       "    </tr>\n",
       "    <tr>\n",
       "      <th>31</th>\n",
       "      <td>billy.lemmons@enron.com</td>\n",
       "      <td>jeff.skilling@enron.com</td>\n",
       "      <td>10</td>\n",
       "    </tr>\n",
       "    <tr>\n",
       "      <th>32</th>\n",
       "      <td>eharris@insightpartners.com</td>\n",
       "      <td>jeff.skilling@enron.com</td>\n",
       "      <td>9</td>\n",
       "    </tr>\n",
       "    <tr>\n",
       "      <th>83</th>\n",
       "      <td>fparra@swbanktx.com</td>\n",
       "      <td>jeff.skilling@enron.com</td>\n",
       "      <td>7</td>\n",
       "    </tr>\n",
       "    <tr>\n",
       "      <th>117</th>\n",
       "      <td>james.derrick@enron.com</td>\n",
       "      <td>rex.rogers@enron.com</td>\n",
       "      <td>7</td>\n",
       "    </tr>\n",
       "    <tr>\n",
       "      <th>76</th>\n",
       "      <td>rosalee.fleming@enron.com</td>\n",
       "      <td>barbara.paige@enron.com</td>\n",
       "      <td>6</td>\n",
       "    </tr>\n",
       "    <tr>\n",
       "      <th>123</th>\n",
       "      <td>james.derrick@enron.com</td>\n",
       "      <td>sharon.butcher@enron.com</td>\n",
       "      <td>6</td>\n",
       "    </tr>\n",
       "  </tbody>\n",
       "</table>\n",
       "</div>"
      ],
      "text/plain": [
       "                            From                           To  count\n",
       "127      james.derrick@enron.com           j.harris@enron.com     93\n",
       "35           rob.walls@enron.com      james.derrick@enron.com     22\n",
       "130      james.derrick@enron.com          rob.walls@enron.com     13\n",
       "44         sherri.sera@enron.com  eharris@insightpartners.com     12\n",
       "31       billy.lemmons@enron.com      jeff.skilling@enron.com     10\n",
       "32   eharris@insightpartners.com      jeff.skilling@enron.com      9\n",
       "83           fparra@swbanktx.com      jeff.skilling@enron.com      7\n",
       "117      james.derrick@enron.com         rex.rogers@enron.com      7\n",
       "76     rosalee.fleming@enron.com      barbara.paige@enron.com      6\n",
       "123      james.derrick@enron.com     sharon.butcher@enron.com      6"
      ]
     },
     "execution_count": 33,
     "metadata": {},
     "output_type": "execute_result"
    }
   ],
   "source": [
    "sub_df_rise = sub_df_rise.groupby(['From', 'To']).count().reset_index()\n",
    "\n",
    "sub_df_rise['From'] = sub_df_rise['From'].map(lambda x: next(iter(x)))\n",
    "sub_df_rise['To'] = sub_df_rise['To'].map(lambda x: next(iter(x)))\n",
    "\n",
    "sub_df_rise.rename(columns={'Date': 'count'}, inplace=True)\n",
    "sub_df_rise.sort_values('count', ascending=False).head(10)"
   ]
  },
  {
   "cell_type": "code",
   "execution_count": 34,
   "metadata": {},
   "outputs": [],
   "source": [
    "sub_df_rise.to_csv(\"sub_df_rise.csv\")"
   ]
  },
  {
   "cell_type": "code",
   "execution_count": 35,
   "metadata": {},
   "outputs": [],
   "source": [
    "G = nx.from_pandas_edgelist(sub_df_rise,\n",
    "                             source = 'From',\n",
    "                             target = 'To',\n",
    "                             edge_attr = 'count')"
   ]
  },
  {
   "cell_type": "code",
   "execution_count": 36,
   "metadata": {},
   "outputs": [
    {
     "data": {
      "text/html": [
       "\n",
       "        <iframe\n",
       "            width=\"1300px\"\n",
       "            height=\"700px\"\n",
       "            src=\"network_rise.html\"\n",
       "            frameborder=\"0\"\n",
       "            allowfullscreen\n",
       "            \n",
       "        ></iframe>\n",
       "        "
      ],
      "text/plain": [
       "<IPython.lib.display.IFrame at 0x1a732df70>"
      ]
     },
     "execution_count": 36,
     "metadata": {},
     "output_type": "execute_result"
    }
   ],
   "source": [
    "net = Network('700px', '1300px', notebook=True)\n",
    "net.from_nx(G)\n",
    "net.show(\"network_rise.html\")"
   ]
  },
  {
   "cell_type": "markdown",
   "metadata": {},
   "source": [
    "# Enron data [July-Dec'2001]"
   ]
  },
  {
   "cell_type": "code",
   "execution_count": 37,
   "metadata": {},
   "outputs": [],
   "source": [
    "month2 = [7, 8, 9, 10, 11]"
   ]
  },
  {
   "cell_type": "code",
   "execution_count": 38,
   "metadata": {},
   "outputs": [],
   "source": [
    "emails_fall = emails_2001[emails_2001['month'].isin(month2)]"
   ]
  },
  {
   "cell_type": "code",
   "execution_count": 39,
   "metadata": {},
   "outputs": [
    {
     "name": "stdout",
     "output_type": "stream",
     "text": [
      "(816, 3)\n",
      "(635, 3)\n"
     ]
    }
   ],
   "source": [
    "sub_df_fall = emails_fall[['From', 'To', 'Date']].dropna()\n",
    "print(sub_df_fall.shape)\n",
    "\n",
    "sub_df_fall = sub_df_fall.loc[sub_df_fall['To'].map(len) == 1]\n",
    "print(sub_df_fall.shape)"
   ]
  },
  {
   "cell_type": "code",
   "execution_count": 40,
   "metadata": {},
   "outputs": [
    {
     "data": {
      "text/html": [
       "<div>\n",
       "<style scoped>\n",
       "    .dataframe tbody tr th:only-of-type {\n",
       "        vertical-align: middle;\n",
       "    }\n",
       "\n",
       "    .dataframe tbody tr th {\n",
       "        vertical-align: top;\n",
       "    }\n",
       "\n",
       "    .dataframe thead th {\n",
       "        text-align: right;\n",
       "    }\n",
       "</style>\n",
       "<table border=\"1\" class=\"dataframe\">\n",
       "  <thead>\n",
       "    <tr style=\"text-align: right;\">\n",
       "      <th></th>\n",
       "      <th>From</th>\n",
       "      <th>To</th>\n",
       "      <th>count</th>\n",
       "    </tr>\n",
       "  </thead>\n",
       "  <tbody>\n",
       "    <tr>\n",
       "      <th>120</th>\n",
       "      <td>james.derrick@enron.com</td>\n",
       "      <td>c..williams@enron.com</td>\n",
       "      <td>77</td>\n",
       "    </tr>\n",
       "    <tr>\n",
       "      <th>119</th>\n",
       "      <td>james.derrick@enron.com</td>\n",
       "      <td>j.harris@enron.com</td>\n",
       "      <td>50</td>\n",
       "    </tr>\n",
       "    <tr>\n",
       "      <th>165</th>\n",
       "      <td>j.harris@enron.com</td>\n",
       "      <td>james.derrick@enron.com</td>\n",
       "      <td>19</td>\n",
       "    </tr>\n",
       "    <tr>\n",
       "      <th>114</th>\n",
       "      <td>james.derrick@enron.com</td>\n",
       "      <td>rob.walls@enron.com</td>\n",
       "      <td>15</td>\n",
       "    </tr>\n",
       "    <tr>\n",
       "      <th>270</th>\n",
       "      <td>m..forney@enron.com</td>\n",
       "      <td>jeffrey.miller@enron.com</td>\n",
       "      <td>13</td>\n",
       "    </tr>\n",
       "    <tr>\n",
       "      <th>75</th>\n",
       "      <td>chuck.paul@wiseshops.com</td>\n",
       "      <td>smu-betas@yahoogroups.com</td>\n",
       "      <td>11</td>\n",
       "    </tr>\n",
       "    <tr>\n",
       "      <th>169</th>\n",
       "      <td>rob.walls@enron.com</td>\n",
       "      <td>james.derrick@enron.com</td>\n",
       "      <td>9</td>\n",
       "    </tr>\n",
       "    <tr>\n",
       "      <th>239</th>\n",
       "      <td>m..forney@enron.com</td>\n",
       "      <td>scott.jacobucci@elpaso.com</td>\n",
       "      <td>8</td>\n",
       "    </tr>\n",
       "    <tr>\n",
       "      <th>118</th>\n",
       "      <td>james.derrick@enron.com</td>\n",
       "      <td>rex.rogers@enron.com</td>\n",
       "      <td>8</td>\n",
       "    </tr>\n",
       "    <tr>\n",
       "      <th>273</th>\n",
       "      <td>m..forney@enron.com</td>\n",
       "      <td>lloyd.will@enron.com</td>\n",
       "      <td>7</td>\n",
       "    </tr>\n",
       "  </tbody>\n",
       "</table>\n",
       "</div>"
      ],
      "text/plain": [
       "                         From                          To  count\n",
       "120   james.derrick@enron.com       c..williams@enron.com     77\n",
       "119   james.derrick@enron.com          j.harris@enron.com     50\n",
       "165        j.harris@enron.com     james.derrick@enron.com     19\n",
       "114   james.derrick@enron.com         rob.walls@enron.com     15\n",
       "270       m..forney@enron.com    jeffrey.miller@enron.com     13\n",
       "75   chuck.paul@wiseshops.com   smu-betas@yahoogroups.com     11\n",
       "169       rob.walls@enron.com     james.derrick@enron.com      9\n",
       "239       m..forney@enron.com  scott.jacobucci@elpaso.com      8\n",
       "118   james.derrick@enron.com        rex.rogers@enron.com      8\n",
       "273       m..forney@enron.com        lloyd.will@enron.com      7"
      ]
     },
     "execution_count": 40,
     "metadata": {},
     "output_type": "execute_result"
    }
   ],
   "source": [
    "sub_df_fall = sub_df_fall.groupby(['From', 'To']).count().reset_index()\n",
    "\n",
    "sub_df_fall['From'] = sub_df_fall['From'].map(lambda x: next(iter(x)))\n",
    "sub_df_fall['To'] = sub_df_fall['To'].map(lambda x: next(iter(x)))\n",
    "\n",
    "sub_df_fall.rename(columns={'Date': 'count'}, inplace=True)\n",
    "sub_df_fall.sort_values('count', ascending=False).head(10)"
   ]
  },
  {
   "cell_type": "code",
   "execution_count": 41,
   "metadata": {},
   "outputs": [],
   "source": [
    "sub_df_fall.to_csv(\"sub_df_fall.csv\")"
   ]
  },
  {
   "cell_type": "code",
   "execution_count": 42,
   "metadata": {},
   "outputs": [],
   "source": [
    "G2 = nx.from_pandas_edgelist(sub_df_fall,\n",
    "                             source = 'From',\n",
    "                             target = 'To',\n",
    "                             edge_attr = 'count')"
   ]
  },
  {
   "cell_type": "code",
   "execution_count": 43,
   "metadata": {},
   "outputs": [
    {
     "data": {
      "text/html": [
       "\n",
       "        <iframe\n",
       "            width=\"1300px\"\n",
       "            height=\"700px\"\n",
       "            src=\"network_fall.html\"\n",
       "            frameborder=\"0\"\n",
       "            allowfullscreen\n",
       "            \n",
       "        ></iframe>\n",
       "        "
      ],
      "text/plain": [
       "<IPython.lib.display.IFrame at 0x1a07542b0>"
      ]
     },
     "execution_count": 43,
     "metadata": {},
     "output_type": "execute_result"
    }
   ],
   "source": [
    "net = Network('700px', '1300px', notebook=True)\n",
    "net.from_nx(G2)\n",
    "net.show(\"network_fall.html\")"
   ]
  },
  {
   "cell_type": "code",
   "execution_count": null,
   "metadata": {},
   "outputs": [],
   "source": []
  }
 ],
 "metadata": {
  "kernelspec": {
   "display_name": "Python 3 (ipykernel)",
   "language": "python",
   "name": "python3"
  },
  "language_info": {
   "codemirror_mode": {
    "name": "ipython",
    "version": 3
   },
   "file_extension": ".py",
   "mimetype": "text/x-python",
   "name": "python",
   "nbconvert_exporter": "python",
   "pygments_lexer": "ipython3",
   "version": "3.9.7"
  }
 },
 "nbformat": 4,
 "nbformat_minor": 2
}
